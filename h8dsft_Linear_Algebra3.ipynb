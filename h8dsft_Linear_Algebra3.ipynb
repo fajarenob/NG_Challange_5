{
  "nbformat": 4,
  "nbformat_minor": 0,
  "metadata": {
    "colab": {
      "name": "h8dsft_Linear_Algebra3.ipynb",
      "provenance": []
    },
    "kernelspec": {
      "name": "python3",
      "display_name": "Python 3"
    },
    "language_info": {
      "name": "python"
    }
  },
  "cells": [
    {
      "cell_type": "code",
      "metadata": {
        "id": "SLj_w2pWMItX"
      },
      "source": [
        "import numpy as np"
      ],
      "execution_count": 16,
      "outputs": []
    },
    {
      "cell_type": "markdown",
      "metadata": {
        "id": "eoeIpC77MQTk"
      },
      "source": [
        "Apakah vektor [[1],[3]]   adalah eigen vektor dari [[1,-1],[6,4]]?"
      ]
    },
    {
      "cell_type": "code",
      "metadata": {
        "id": "ADsUUfgouP4j"
      },
      "source": [
        "a= ([1,-1],\n",
        "    [6,4])\n",
        "b = ([1],\n",
        "     [3])"
      ],
      "execution_count": 17,
      "outputs": []
    },
    {
      "cell_type": "code",
      "metadata": {
        "id": "GdGxxRunvFCn"
      },
      "source": [
        "c = np.dot(a,b)"
      ],
      "execution_count": 18,
      "outputs": []
    },
    {
      "cell_type": "code",
      "metadata": {
        "colab": {
          "base_uri": "https://localhost:8080/"
        },
        "id": "LvTY5GHAvb3P",
        "outputId": "9fdc982d-41ab-4a37-b593-dff63a142e2e"
      },
      "source": [
        "c"
      ],
      "execution_count": 19,
      "outputs": [
        {
          "output_type": "execute_result",
          "data": {
            "text/plain": [
              "array([[-2],\n",
              "       [18]])"
            ]
          },
          "metadata": {},
          "execution_count": 19
        }
      ]
    },
    {
      "cell_type": "markdown",
      "metadata": {
        "id": "_P6Z97kxV9yC"
      },
      "source": [
        "Bukan eigen vektor karena bukan kelipatan dari vektor tersebut"
      ]
    },
    {
      "cell_type": "code",
      "metadata": {
        "colab": {
          "base_uri": "https://localhost:8080/"
        },
        "id": "JsNQgChfMNpl",
        "outputId": "8e77f1b0-4837-4819-8e6c-8ddeace95f2a"
      },
      "source": [
        "a = np.matrix([[1,-1],[6,4]]) \n",
        "print(a)"
      ],
      "execution_count": 20,
      "outputs": [
        {
          "output_type": "stream",
          "name": "stdout",
          "text": [
            "[[ 1 -1]\n",
            " [ 6  4]]\n"
          ]
        }
      ]
    },
    {
      "cell_type": "code",
      "metadata": {
        "colab": {
          "base_uri": "https://localhost:8080/"
        },
        "id": "MgTRYiiANK0F",
        "outputId": "cc0b4cf3-6337-4622-8134-1cc643bd018c"
      },
      "source": [
        "eig_vec, eig_val = np.linalg.eig(a) #mencari eigen value dan eigen vektor\n",
        "\n",
        "print(\"\\nEigenvektor\")\n",
        "print (eig_vec)"
      ],
      "execution_count": 21,
      "outputs": [
        {
          "output_type": "stream",
          "name": "stdout",
          "text": [
            "\n",
            "Eigenvektor\n",
            "[2.5+1.93649167j 2.5-1.93649167j]\n"
          ]
        }
      ]
    },
    {
      "cell_type": "code",
      "metadata": {
        "colab": {
          "base_uri": "https://localhost:8080/"
        },
        "id": "XqHrZH3nSxzP",
        "outputId": "fd6e57f1-13e8-495a-f1eb-e6c1c81acbfd"
      },
      "source": [
        "print(\"\\nEigenvalue\")\n",
        "print (eig_val)"
      ],
      "execution_count": 22,
      "outputs": [
        {
          "output_type": "stream",
          "name": "stdout",
          "text": [
            "\n",
            "Eigenvalue\n",
            "[[-0.23145502+0.29880715j -0.23145502-0.29880715j]\n",
            " [ 0.9258201 +0.j          0.9258201 -0.j        ]]\n"
          ]
        }
      ]
    }
  ]
}